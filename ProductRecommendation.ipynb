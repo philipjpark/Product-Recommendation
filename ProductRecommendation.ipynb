{
  "nbformat": 4,
  "nbformat_minor": 0,
  "metadata": {
    "colab": {
      "provenance": [],
      "authorship_tag": "ABX9TyP4LPbdfYwKhlT3L0CxUjRX",
      "include_colab_link": true
    },
    "kernelspec": {
      "name": "python3",
      "display_name": "Python 3"
    },
    "language_info": {
      "name": "python"
    }
  },
  "cells": [
    {
      "cell_type": "markdown",
      "metadata": {
        "id": "view-in-github",
        "colab_type": "text"
      },
      "source": [
        "<a href=\"https://colab.research.google.com/github/philipjpark/Product-Recommendation/blob/main/ProductRecommendation.ipynb\" target=\"_parent\"><img src=\"https://colab.research.google.com/assets/colab-badge.svg\" alt=\"Open In Colab\"/></a>"
      ]
    },
    {
      "cell_type": "code",
      "execution_count": 3,
      "metadata": {
        "colab": {
          "base_uri": "https://localhost:8080/"
        },
        "id": "ECMTDctzte6U",
        "outputId": "853093f3-c96d-4e97-8329-43e66231dcbb"
      },
      "outputs": [
        {
          "output_type": "stream",
          "name": "stdout",
          "text": [
            "Looking in indexes: https://pypi.org/simple, https://us-python.pkg.dev/colab-wheels/public/simple/\n",
            "Requirement already satisfied: kafka-python in /usr/local/lib/python3.10/dist-packages (2.0.2)\n",
            "Reading package lists... Done\n",
            "Building dependency tree       \n",
            "Reading state information... Done\n",
            "librdkafka-dev is already the newest version (1.2.1-1ubuntu1).\n",
            "0 upgraded, 0 newly installed, 0 to remove and 24 not upgraded.\n",
            "Looking in indexes: https://pypi.org/simple, https://us-python.pkg.dev/colab-wheels/public/simple/\n",
            "Requirement already satisfied: confluent-kafka in /usr/local/lib/python3.10/dist-packages (2.1.1)\n"
          ]
        },
        {
          "output_type": "execute_result",
          "data": {
            "text/plain": [
              "(323985, 8)"
            ]
          },
          "metadata": {},
          "execution_count": 3
        }
      ],
      "source": [
        "import pandas as pd\n",
        "import seaborn as sns\n",
        "import matplotlib.pyplot as plt\n",
        "!pip install kafka-python\n",
        "!apt-get install -y librdkafka-dev\n",
        "!pip install confluent-kafka\n",
        "from kafka import KafkaConsumer, KafkaProducer\n",
        "\n",
        "kz = pd.read_csv(\"/kz.csv\").drop_duplicates()\n",
        "#on_bad_lines skips certain lines\n",
        "\n",
        "kz['event_time'] = pd.to_datetime(kz['event_time']).dt.date\n",
        "\n",
        "kz.shape"
      ]
    },
    {
      "cell_type": "markdown",
      "source": [
        "Notes: Here I am importing necessary libraries such as pandas, seaborn, and matplotlib.pyplot, and installing kafka-python, librdkafka-dev, and confluent-kafka packages in order to proceed with my real-time analysis for product recommendations."
      ],
      "metadata": {
        "id": "LBi6fKPjTWcQ"
      }
    },
    {
      "cell_type": "code",
      "source": [
        "kz.columns.values.tolist()"
      ],
      "metadata": {
        "id": "VLSMXQBQ4SJ8",
        "colab": {
          "base_uri": "https://localhost:8080/"
        },
        "outputId": "9a9ce998-3558-480b-b78e-d067dfa6432c"
      },
      "execution_count": 4,
      "outputs": [
        {
          "output_type": "execute_result",
          "data": {
            "text/plain": [
              "['event_time',\n",
              " 'order_id',\n",
              " 'product_id',\n",
              " 'category_id',\n",
              " 'category_code',\n",
              " 'brand',\n",
              " 'price',\n",
              " 'user_id']"
            ]
          },
          "metadata": {},
          "execution_count": 4
        }
      ]
    },
    {
      "cell_type": "code",
      "source": [
        "data_types= kz.dtypes\n",
        "\n",
        "print(data_types)\n"
      ],
      "metadata": {
        "colab": {
          "base_uri": "https://localhost:8080/"
        },
        "id": "NbAypPvVzEIu",
        "outputId": "317d8c6a-40ad-40c1-9bc5-ca52a67359d8"
      },
      "execution_count": 5,
      "outputs": [
        {
          "output_type": "stream",
          "name": "stdout",
          "text": [
            "event_time        object\n",
            "order_id           int64\n",
            "product_id         int64\n",
            "category_id      float64\n",
            "category_code     object\n",
            "brand             object\n",
            "price            float64\n",
            "user_id          float64\n",
            "dtype: object\n"
          ]
        }
      ]
    },
    {
      "cell_type": "code",
      "source": [
        "kz.groupby('user_id', as_index=False).size().sort_values(by=\"size\", ascending=False)"
      ],
      "metadata": {
        "id": "J1cnZryWxAj3",
        "colab": {
          "base_uri": "https://localhost:8080/",
          "height": 423
        },
        "outputId": "cdd01d16-f19e-4f0e-e173-70b67ad4b20b"
      },
      "execution_count": 6,
      "outputs": [
        {
          "output_type": "execute_result",
          "data": {
            "text/plain": [
              "            user_id  size\n",
              "21717  1.515916e+18   199\n",
              "21662  1.515916e+18   192\n",
              "21661  1.515916e+18   186\n",
              "21722  1.515916e+18   184\n",
              "21706  1.515916e+18   181\n",
              "...             ...   ...\n",
              "9334   1.515916e+18     1\n",
              "9335   1.515916e+18     1\n",
              "9337   1.515916e+18     1\n",
              "9338   1.515916e+18     1\n",
              "11070  1.515916e+18     1\n",
              "\n",
              "[22140 rows x 2 columns]"
            ],
            "text/html": [
              "\n",
              "  <div id=\"df-0afc2c6b-f199-46e3-a04f-f887b1356491\">\n",
              "    <div class=\"colab-df-container\">\n",
              "      <div>\n",
              "<style scoped>\n",
              "    .dataframe tbody tr th:only-of-type {\n",
              "        vertical-align: middle;\n",
              "    }\n",
              "\n",
              "    .dataframe tbody tr th {\n",
              "        vertical-align: top;\n",
              "    }\n",
              "\n",
              "    .dataframe thead th {\n",
              "        text-align: right;\n",
              "    }\n",
              "</style>\n",
              "<table border=\"1\" class=\"dataframe\">\n",
              "  <thead>\n",
              "    <tr style=\"text-align: right;\">\n",
              "      <th></th>\n",
              "      <th>user_id</th>\n",
              "      <th>size</th>\n",
              "    </tr>\n",
              "  </thead>\n",
              "  <tbody>\n",
              "    <tr>\n",
              "      <th>21717</th>\n",
              "      <td>1.515916e+18</td>\n",
              "      <td>199</td>\n",
              "    </tr>\n",
              "    <tr>\n",
              "      <th>21662</th>\n",
              "      <td>1.515916e+18</td>\n",
              "      <td>192</td>\n",
              "    </tr>\n",
              "    <tr>\n",
              "      <th>21661</th>\n",
              "      <td>1.515916e+18</td>\n",
              "      <td>186</td>\n",
              "    </tr>\n",
              "    <tr>\n",
              "      <th>21722</th>\n",
              "      <td>1.515916e+18</td>\n",
              "      <td>184</td>\n",
              "    </tr>\n",
              "    <tr>\n",
              "      <th>21706</th>\n",
              "      <td>1.515916e+18</td>\n",
              "      <td>181</td>\n",
              "    </tr>\n",
              "    <tr>\n",
              "      <th>...</th>\n",
              "      <td>...</td>\n",
              "      <td>...</td>\n",
              "    </tr>\n",
              "    <tr>\n",
              "      <th>9334</th>\n",
              "      <td>1.515916e+18</td>\n",
              "      <td>1</td>\n",
              "    </tr>\n",
              "    <tr>\n",
              "      <th>9335</th>\n",
              "      <td>1.515916e+18</td>\n",
              "      <td>1</td>\n",
              "    </tr>\n",
              "    <tr>\n",
              "      <th>9337</th>\n",
              "      <td>1.515916e+18</td>\n",
              "      <td>1</td>\n",
              "    </tr>\n",
              "    <tr>\n",
              "      <th>9338</th>\n",
              "      <td>1.515916e+18</td>\n",
              "      <td>1</td>\n",
              "    </tr>\n",
              "    <tr>\n",
              "      <th>11070</th>\n",
              "      <td>1.515916e+18</td>\n",
              "      <td>1</td>\n",
              "    </tr>\n",
              "  </tbody>\n",
              "</table>\n",
              "<p>22140 rows × 2 columns</p>\n",
              "</div>\n",
              "      <button class=\"colab-df-convert\" onclick=\"convertToInteractive('df-0afc2c6b-f199-46e3-a04f-f887b1356491')\"\n",
              "              title=\"Convert this dataframe to an interactive table.\"\n",
              "              style=\"display:none;\">\n",
              "        \n",
              "  <svg xmlns=\"http://www.w3.org/2000/svg\" height=\"24px\"viewBox=\"0 0 24 24\"\n",
              "       width=\"24px\">\n",
              "    <path d=\"M0 0h24v24H0V0z\" fill=\"none\"/>\n",
              "    <path d=\"M18.56 5.44l.94 2.06.94-2.06 2.06-.94-2.06-.94-.94-2.06-.94 2.06-2.06.94zm-11 1L8.5 8.5l.94-2.06 2.06-.94-2.06-.94L8.5 2.5l-.94 2.06-2.06.94zm10 10l.94 2.06.94-2.06 2.06-.94-2.06-.94-.94-2.06-.94 2.06-2.06.94z\"/><path d=\"M17.41 7.96l-1.37-1.37c-.4-.4-.92-.59-1.43-.59-.52 0-1.04.2-1.43.59L10.3 9.45l-7.72 7.72c-.78.78-.78 2.05 0 2.83L4 21.41c.39.39.9.59 1.41.59.51 0 1.02-.2 1.41-.59l7.78-7.78 2.81-2.81c.8-.78.8-2.07 0-2.86zM5.41 20L4 18.59l7.72-7.72 1.47 1.35L5.41 20z\"/>\n",
              "  </svg>\n",
              "      </button>\n",
              "      \n",
              "  <style>\n",
              "    .colab-df-container {\n",
              "      display:flex;\n",
              "      flex-wrap:wrap;\n",
              "      gap: 12px;\n",
              "    }\n",
              "\n",
              "    .colab-df-convert {\n",
              "      background-color: #E8F0FE;\n",
              "      border: none;\n",
              "      border-radius: 50%;\n",
              "      cursor: pointer;\n",
              "      display: none;\n",
              "      fill: #1967D2;\n",
              "      height: 32px;\n",
              "      padding: 0 0 0 0;\n",
              "      width: 32px;\n",
              "    }\n",
              "\n",
              "    .colab-df-convert:hover {\n",
              "      background-color: #E2EBFA;\n",
              "      box-shadow: 0px 1px 2px rgba(60, 64, 67, 0.3), 0px 1px 3px 1px rgba(60, 64, 67, 0.15);\n",
              "      fill: #174EA6;\n",
              "    }\n",
              "\n",
              "    [theme=dark] .colab-df-convert {\n",
              "      background-color: #3B4455;\n",
              "      fill: #D2E3FC;\n",
              "    }\n",
              "\n",
              "    [theme=dark] .colab-df-convert:hover {\n",
              "      background-color: #434B5C;\n",
              "      box-shadow: 0px 1px 3px 1px rgba(0, 0, 0, 0.15);\n",
              "      filter: drop-shadow(0px 1px 2px rgba(0, 0, 0, 0.3));\n",
              "      fill: #FFFFFF;\n",
              "    }\n",
              "  </style>\n",
              "\n",
              "      <script>\n",
              "        const buttonEl =\n",
              "          document.querySelector('#df-0afc2c6b-f199-46e3-a04f-f887b1356491 button.colab-df-convert');\n",
              "        buttonEl.style.display =\n",
              "          google.colab.kernel.accessAllowed ? 'block' : 'none';\n",
              "\n",
              "        async function convertToInteractive(key) {\n",
              "          const element = document.querySelector('#df-0afc2c6b-f199-46e3-a04f-f887b1356491');\n",
              "          const dataTable =\n",
              "            await google.colab.kernel.invokeFunction('convertToInteractive',\n",
              "                                                     [key], {});\n",
              "          if (!dataTable) return;\n",
              "\n",
              "          const docLinkHtml = 'Like what you see? Visit the ' +\n",
              "            '<a target=\"_blank\" href=https://colab.research.google.com/notebooks/data_table.ipynb>data table notebook</a>'\n",
              "            + ' to learn more about interactive tables.';\n",
              "          element.innerHTML = '';\n",
              "          dataTable['output_type'] = 'display_data';\n",
              "          await google.colab.output.renderOutput(dataTable, element);\n",
              "          const docLink = document.createElement('div');\n",
              "          docLink.innerHTML = docLinkHtml;\n",
              "          element.appendChild(docLink);\n",
              "        }\n",
              "      </script>\n",
              "    </div>\n",
              "  </div>\n",
              "  "
            ]
          },
          "metadata": {},
          "execution_count": 6
        }
      ]
    },
    {
      "cell_type": "markdown",
      "source": [
        "Notes: Here I am adding up all the instances in which a user made a purchase. Then I am arranging it from the most voluminous purchasers to the least and printing out the data types of each feature."
      ],
      "metadata": {
        "id": "rn_ucDy5TvKz"
      }
    },
    {
      "cell_type": "code",
      "source": [
        "train = kz.loc[kz['event_time'] < pd.Timestamp('2020-09-01'),:]\n",
        "\n",
        "valid = kz.loc[kz['event_time'] >= pd.Timestamp('2020-09-01'),:]"
      ],
      "metadata": {
        "id": "iog8nlS6xDZ8",
        "colab": {
          "base_uri": "https://localhost:8080/"
        },
        "outputId": "fd4591ec-bb8a-4e40-cc40-24e0e236e581"
      },
      "execution_count": 7,
      "outputs": [
        {
          "output_type": "stream",
          "name": "stderr",
          "text": [
            "<ipython-input-7-2a62dca231f9>:1: FutureWarning: Comparison of Timestamp with datetime.date is deprecated in order to match the standard library behavior. In a future version these will be considered non-comparable. Use 'ts == pd.Timestamp(date)' or 'ts.date() == date' instead.\n",
            "  train = kz.loc[kz['event_time'] < pd.Timestamp('2020-09-01'),:]\n",
            "<ipython-input-7-2a62dca231f9>:3: FutureWarning: Comparison of Timestamp with datetime.date is deprecated in order to match the standard library behavior. In a future version these will be considered non-comparable. Use 'ts == pd.Timestamp(date)' or 'ts.date() == date' instead.\n",
            "  valid = kz.loc[kz['event_time'] >= pd.Timestamp('2020-09-01'),:]\n"
          ]
        }
      ]
    },
    {
      "cell_type": "markdown",
      "source": [
        "Notes: I am splitting the original data into two parts: a training set (train) containing all data before September 1st, 2020, and a validation set (valid) containing all data on or after September 1st, 2020. This is done to evaluate the model's performance."
      ],
      "metadata": {
        "id": "u40lrx7bULxN"
      }
    },
    {
      "cell_type": "code",
      "source": [
        "import numpy as np\n",
        "\n",
        "def avg_prec(actual, predicted, k=15):\n",
        "    if len(predicted)>k:\n",
        "        predicted = predicted[:k]  #limiting the number of predicted items to the top-k items. \n",
        "\n",
        "    score = 0.0\n",
        "    num_hits = 0.0\n",
        "\n",
        "    for i,p in enumerate(predicted):\n",
        "        if p in actual and p not in predicted[:i]:\n",
        "            num_hits += 1.0\n",
        "            score += num_hits / (i+1.0)   #here we have a check for the predicted items to see if they are in the actual items list\n",
        "\n",
        "    if not actual:\n",
        "        return 0.0\n",
        "\n",
        "    return score / min(len(actual), k)\n",
        "def mean_avg_prec(actual, predicted, k=10):\n",
        "    return np.mean([avg_prec(a,p,k) for a,p in zip(actual, predicted)])\n",
        "    \n",
        "actual_items = [3, 7, 4, 2, 5]\n",
        "actual_items = [str(i) for i in actual_items]\n",
        "recommended_items = [12, 7, 53, 90, 3, 23, 14, 37, 18, 67]\n",
        "recommended_items = [str(i) for i in recommended_items]\n",
        "\n",
        "avg_prec(actual_items, recommended_items) \n",
        "#The average precision of a recommendation system based on the actual items that the user interacted with ('actual_items') \n",
        "#Then we have items that the recommendation system recommended to the user ('recommended_items').\n"
      ],
      "metadata": {
        "id": "geydD9GrxMql",
        "colab": {
          "base_uri": "https://localhost:8080/"
        },
        "outputId": "18766fa9-018c-4807-e096-5ad91ab2cce6"
      },
      "execution_count": 8,
      "outputs": [
        {
          "output_type": "execute_result",
          "data": {
            "text/plain": [
              "0.18"
            ]
          },
          "metadata": {},
          "execution_count": 8
        }
      ]
    },
    {
      "cell_type": "markdown",
      "source": [
        "Notes: The avg_prec(), calculates the average precision of a recommendation system based on the actual items that the user interacted with (actual_items) and the items that were recommended to the user (recommended_items).\n",
        "\n",
        "The metric measures how accurate and relevant the recommended items are, compared to the actual items that the user interacted with. Then it computes the score by looking at the number of recommended items that are also in the actual items list, and their position compared to the recommendation list. It then takes the average of these scores for all the recommended items, up to a max of k number of items.\n",
        "\n",
        "The mean_avg_prec(), takes a list of actual items and a list of recommended items for multiple users, and computes the average of their average precision scores using the avg_prec()."
      ],
      "metadata": {
        "id": "jtWj29gVUuZT"
      }
    },
    {
      "cell_type": "markdown",
      "source": [
        "**Approach Based on Rating**"
      ],
      "metadata": {
        "id": "AEPF4PGe3Yq7"
      }
    },
    {
      "cell_type": "code",
      "source": [
        "product_ratings = train.groupby('product_id', as_index=False).size()['size'] \n",
        "#number of product rating reviews\n",
        "\n",
        "num_ratings = train.drop_duplicates(['product_id', 'user_id']).groupby('product_id', as_index=False).size()['size'] \n",
        "#number of unique users that reviewed products but also removing duplicates\n",
        "\n",
        "last_rating = train.groupby('product_id', as_index=False).agg({'event_time': max})\n",
        "#most recent review made for the product. "
      ],
      "metadata": {
        "id": "-cy1W5sl3XRp"
      },
      "execution_count": 9,
      "outputs": []
    },
    {
      "cell_type": "code",
      "source": [
        "rating_count_df = pd.DataFrame({'number of ratings': product_ratings, 'unique user reviews': num_ratings})\n",
        "rating_count_df = rating_count_df.join(last_rating).sort_values(by=\"unique user reviews\", ascending=False)\n",
        "\n",
        "rating_count_df"
      ],
      "metadata": {
        "id": "s3IHfDwy3YI8",
        "colab": {
          "base_uri": "https://localhost:8080/",
          "height": 423
        },
        "outputId": "4439e658-b2bb-45da-fb85-6227b3cb89e7"
      },
      "execution_count": 10,
      "outputs": [
        {
          "output_type": "execute_result",
          "data": {
            "text/plain": [
              "       number of ratings  unique user reviews           product_id  event_time\n",
              "60                   328                  290  1515966223509088620  2020-07-08\n",
              "126                  715                  252  1515966223509089045  2020-07-08\n",
              "18                   864                  218  1515966223509088521  2020-07-08\n",
              "287                  762                  212  1515966223509089486  2020-07-08\n",
              "12059                218                  201  2273948308235878951  2020-07-08\n",
              "...                  ...                  ...                  ...         ...\n",
              "7300                   1                    1  1515966223510394144  2020-01-16\n",
              "7296                   3                    1  1515966223510394072  2020-01-29\n",
              "7292                   1                    1  1515966223510394014  2020-05-18\n",
              "7287                   1                    1  1515966223510393966  2020-01-24\n",
              "13163                  1                    1  2344947876582392097  2020-07-06\n",
              "\n",
              "[13164 rows x 4 columns]"
            ],
            "text/html": [
              "\n",
              "  <div id=\"df-ae13948e-f36d-45e7-88a1-4fc44835709f\">\n",
              "    <div class=\"colab-df-container\">\n",
              "      <div>\n",
              "<style scoped>\n",
              "    .dataframe tbody tr th:only-of-type {\n",
              "        vertical-align: middle;\n",
              "    }\n",
              "\n",
              "    .dataframe tbody tr th {\n",
              "        vertical-align: top;\n",
              "    }\n",
              "\n",
              "    .dataframe thead th {\n",
              "        text-align: right;\n",
              "    }\n",
              "</style>\n",
              "<table border=\"1\" class=\"dataframe\">\n",
              "  <thead>\n",
              "    <tr style=\"text-align: right;\">\n",
              "      <th></th>\n",
              "      <th>number of ratings</th>\n",
              "      <th>unique user reviews</th>\n",
              "      <th>product_id</th>\n",
              "      <th>event_time</th>\n",
              "    </tr>\n",
              "  </thead>\n",
              "  <tbody>\n",
              "    <tr>\n",
              "      <th>60</th>\n",
              "      <td>328</td>\n",
              "      <td>290</td>\n",
              "      <td>1515966223509088620</td>\n",
              "      <td>2020-07-08</td>\n",
              "    </tr>\n",
              "    <tr>\n",
              "      <th>126</th>\n",
              "      <td>715</td>\n",
              "      <td>252</td>\n",
              "      <td>1515966223509089045</td>\n",
              "      <td>2020-07-08</td>\n",
              "    </tr>\n",
              "    <tr>\n",
              "      <th>18</th>\n",
              "      <td>864</td>\n",
              "      <td>218</td>\n",
              "      <td>1515966223509088521</td>\n",
              "      <td>2020-07-08</td>\n",
              "    </tr>\n",
              "    <tr>\n",
              "      <th>287</th>\n",
              "      <td>762</td>\n",
              "      <td>212</td>\n",
              "      <td>1515966223509089486</td>\n",
              "      <td>2020-07-08</td>\n",
              "    </tr>\n",
              "    <tr>\n",
              "      <th>12059</th>\n",
              "      <td>218</td>\n",
              "      <td>201</td>\n",
              "      <td>2273948308235878951</td>\n",
              "      <td>2020-07-08</td>\n",
              "    </tr>\n",
              "    <tr>\n",
              "      <th>...</th>\n",
              "      <td>...</td>\n",
              "      <td>...</td>\n",
              "      <td>...</td>\n",
              "      <td>...</td>\n",
              "    </tr>\n",
              "    <tr>\n",
              "      <th>7300</th>\n",
              "      <td>1</td>\n",
              "      <td>1</td>\n",
              "      <td>1515966223510394144</td>\n",
              "      <td>2020-01-16</td>\n",
              "    </tr>\n",
              "    <tr>\n",
              "      <th>7296</th>\n",
              "      <td>3</td>\n",
              "      <td>1</td>\n",
              "      <td>1515966223510394072</td>\n",
              "      <td>2020-01-29</td>\n",
              "    </tr>\n",
              "    <tr>\n",
              "      <th>7292</th>\n",
              "      <td>1</td>\n",
              "      <td>1</td>\n",
              "      <td>1515966223510394014</td>\n",
              "      <td>2020-05-18</td>\n",
              "    </tr>\n",
              "    <tr>\n",
              "      <th>7287</th>\n",
              "      <td>1</td>\n",
              "      <td>1</td>\n",
              "      <td>1515966223510393966</td>\n",
              "      <td>2020-01-24</td>\n",
              "    </tr>\n",
              "    <tr>\n",
              "      <th>13163</th>\n",
              "      <td>1</td>\n",
              "      <td>1</td>\n",
              "      <td>2344947876582392097</td>\n",
              "      <td>2020-07-06</td>\n",
              "    </tr>\n",
              "  </tbody>\n",
              "</table>\n",
              "<p>13164 rows × 4 columns</p>\n",
              "</div>\n",
              "      <button class=\"colab-df-convert\" onclick=\"convertToInteractive('df-ae13948e-f36d-45e7-88a1-4fc44835709f')\"\n",
              "              title=\"Convert this dataframe to an interactive table.\"\n",
              "              style=\"display:none;\">\n",
              "        \n",
              "  <svg xmlns=\"http://www.w3.org/2000/svg\" height=\"24px\"viewBox=\"0 0 24 24\"\n",
              "       width=\"24px\">\n",
              "    <path d=\"M0 0h24v24H0V0z\" fill=\"none\"/>\n",
              "    <path d=\"M18.56 5.44l.94 2.06.94-2.06 2.06-.94-2.06-.94-.94-2.06-.94 2.06-2.06.94zm-11 1L8.5 8.5l.94-2.06 2.06-.94-2.06-.94L8.5 2.5l-.94 2.06-2.06.94zm10 10l.94 2.06.94-2.06 2.06-.94-2.06-.94-.94-2.06-.94 2.06-2.06.94z\"/><path d=\"M17.41 7.96l-1.37-1.37c-.4-.4-.92-.59-1.43-.59-.52 0-1.04.2-1.43.59L10.3 9.45l-7.72 7.72c-.78.78-.78 2.05 0 2.83L4 21.41c.39.39.9.59 1.41.59.51 0 1.02-.2 1.41-.59l7.78-7.78 2.81-2.81c.8-.78.8-2.07 0-2.86zM5.41 20L4 18.59l7.72-7.72 1.47 1.35L5.41 20z\"/>\n",
              "  </svg>\n",
              "      </button>\n",
              "      \n",
              "  <style>\n",
              "    .colab-df-container {\n",
              "      display:flex;\n",
              "      flex-wrap:wrap;\n",
              "      gap: 12px;\n",
              "    }\n",
              "\n",
              "    .colab-df-convert {\n",
              "      background-color: #E8F0FE;\n",
              "      border: none;\n",
              "      border-radius: 50%;\n",
              "      cursor: pointer;\n",
              "      display: none;\n",
              "      fill: #1967D2;\n",
              "      height: 32px;\n",
              "      padding: 0 0 0 0;\n",
              "      width: 32px;\n",
              "    }\n",
              "\n",
              "    .colab-df-convert:hover {\n",
              "      background-color: #E2EBFA;\n",
              "      box-shadow: 0px 1px 2px rgba(60, 64, 67, 0.3), 0px 1px 3px 1px rgba(60, 64, 67, 0.15);\n",
              "      fill: #174EA6;\n",
              "    }\n",
              "\n",
              "    [theme=dark] .colab-df-convert {\n",
              "      background-color: #3B4455;\n",
              "      fill: #D2E3FC;\n",
              "    }\n",
              "\n",
              "    [theme=dark] .colab-df-convert:hover {\n",
              "      background-color: #434B5C;\n",
              "      box-shadow: 0px 1px 3px 1px rgba(0, 0, 0, 0.15);\n",
              "      filter: drop-shadow(0px 1px 2px rgba(0, 0, 0, 0.3));\n",
              "      fill: #FFFFFF;\n",
              "    }\n",
              "  </style>\n",
              "\n",
              "      <script>\n",
              "        const buttonEl =\n",
              "          document.querySelector('#df-ae13948e-f36d-45e7-88a1-4fc44835709f button.colab-df-convert');\n",
              "        buttonEl.style.display =\n",
              "          google.colab.kernel.accessAllowed ? 'block' : 'none';\n",
              "\n",
              "        async function convertToInteractive(key) {\n",
              "          const element = document.querySelector('#df-ae13948e-f36d-45e7-88a1-4fc44835709f');\n",
              "          const dataTable =\n",
              "            await google.colab.kernel.invokeFunction('convertToInteractive',\n",
              "                                                     [key], {});\n",
              "          if (!dataTable) return;\n",
              "\n",
              "          const docLinkHtml = 'Like what you see? Visit the ' +\n",
              "            '<a target=\"_blank\" href=https://colab.research.google.com/notebooks/data_table.ipynb>data table notebook</a>'\n",
              "            + ' to learn more about interactive tables.';\n",
              "          element.innerHTML = '';\n",
              "          dataTable['output_type'] = 'display_data';\n",
              "          await google.colab.output.renderOutput(dataTable, element);\n",
              "          const docLink = document.createElement('div');\n",
              "          docLink.innerHTML = docLinkHtml;\n",
              "          element.appendChild(docLink);\n",
              "        }\n",
              "      </script>\n",
              "    </div>\n",
              "  </div>\n",
              "  "
            ]
          },
          "metadata": {},
          "execution_count": 10
        }
      ]
    },
    {
      "cell_type": "code",
      "source": [
        "def create_ranked_df(train):\n",
        "        product_ratings = train.groupby('product_id', as_index=False).size()['size']\n",
        "        num_ratings = train.drop_duplicates(['product_id', 'user_id']).groupby('product_id', as_index=False).size()['size']\n",
        "        last_rating = train.groupby('product_id', as_index=False).agg({'event_time': max}).rename(columns={'event_time': 'last_rating'})\n",
        "        \n",
        "        rating_count_df = pd.DataFrame({'avg_rating': product_ratings, 'num_ratings': num_ratings})\n",
        "        rating_count_df = rating_count_df.join(last_rating)\n",
        "\n",
        "        recs =  train.loc[:, ['product_id', 'category_id', 'category_code', 'brand', 'price']].drop_duplicates().merge(rating_count_df, on=['product_id'])\n",
        "\n",
        "        ranked = recs.sort_values(['avg_rating', 'num_ratings', 'last_rating'], ascending=False)\n",
        "\n",
        "        ranked = ranked[ranked['num_ratings'] > 4] \n",
        "        #filters out products with less than 5 reviews because it is not popular enough to be considered\n",
        "        \n",
        "        return ranked\n",
        "    \n",
        "\n",
        "def popular_recommendations(user_id, n_top, ranked):\n",
        "\n",
        "    top = list(ranked['product_id'][:n_top])\n",
        "\n",
        "    return top\n",
        "#The function generates popular recommendations for a given user based on the previously established metrics."
      ],
      "metadata": {
        "id": "YBoj1rt23g-D"
      },
      "execution_count": 11,
      "outputs": []
    },
    {
      "cell_type": "code",
      "source": [
        "ranked = create_ranked_df(train)\n",
        "\n",
        "popular_recommendations('1', 20, ranked)"
      ],
      "metadata": {
        "id": "y0XP1kQO3sBu",
        "colab": {
          "base_uri": "https://localhost:8080/"
        },
        "outputId": "2015abe3-8b1f-44f6-e5ad-fa1407985e3e"
      },
      "execution_count": 12,
      "outputs": [
        {
          "output_type": "execute_result",
          "data": {
            "text/plain": [
              "[1515966223509117074,\n",
              " 2273948186349404174,\n",
              " 1515966223523303307,\n",
              " 2273948316473492113,\n",
              " 1515966223509106786,\n",
              " 2273948218662322995,\n",
              " 2273948216221238252,\n",
              " 2273948218662322996,\n",
              " 1515966223509089067,\n",
              " 1515966223509089598,\n",
              " 2273948222722409184,\n",
              " 1515966223509088521,\n",
              " 2273948227654910595,\n",
              " 1515966223509089646,\n",
              " 1515966223509089283,\n",
              " 1515966223509131886,\n",
              " 1515966223509090011,\n",
              " 2273948227654910594,\n",
              " 1515966223523303304,\n",
              " 2273948316532212462]"
            ]
          },
          "metadata": {},
          "execution_count": 12
        }
      ]
    },
    {
      "cell_type": "markdown",
      "source": [
        "Notes: The create_ranked_df() takes a train DataFrame as input and generates a new DataFrame called ranked based on various attributes. The function then filters out products with less than 5 reviews because they are not popular enough.\n",
        "\n",
        "The popular_recommendations() takes a user ID, a number of top recommendations to generate, and the ranked DataFrame as input. A list of the product IDs for the top n_top products, which are determined by sorting the ranked DataFrame by average rating, number of ratings, and most recent review, and selecting the top n_top products based on that ranking is outputted. \n",
        "\n",
        "The create_ranked_df() on the train DataFrame generates the ranked DataFrame, and then calls the popular_recommendations function with user ID# 1, n_top set to 20, and the ranked DataFrame as input. The function returns a list of the 20 most popular products to recommend to a user. "
      ],
      "metadata": {
        "id": "dSj2q_8MVwcc"
      }
    },
    {
      "cell_type": "markdown",
      "source": [
        "***Implementing Real-Time Analysis***\n",
        "\n",
        "Modified Version of Project Leader Leon's Code to implement Kafka.\n",
        "  "
      ],
      "metadata": {
        "id": "fjNhNMW-j_aZ"
      }
    },
    {
      "cell_type": "code",
      "source": [
        "import threading\n",
        "import time\n",
        "from queue import Queue\n",
        "from collections import defaultdict\n",
        "import heapq\n",
        "\n",
        "\n",
        "class Message:\n",
        "    def __init__(self, user_id, product_id, event_time):\n",
        "        self.user_id = user_id\n",
        "        self.product_id = product_id\n",
        "        self.event_time = event_time\n",
        "\n",
        "    def __str__(self):\n",
        "        return f\"Message:\\n\\tUserID: {self.user_id}\\n\\tProductID {self.product_id}\\n\\tEvent_Time: {self.event_time}\"\n",
        "\n",
        "\n",
        "class KafkaBroker:\n",
        "    def __init__(self, topic):\n",
        "        self.topic = topic\n",
        "        self.data = {}\n",
        "\n",
        "    def produce_message(self, message):\n",
        "        if self.topic in self.data:\n",
        "            self.data[self.topic].append(message)\n",
        "        else:\n",
        "            self.data[self.topic] = [message]\n",
        "\n",
        "    def consume_messages(self):\n",
        "        if self.topic in self.data and len(self.data[self.topic]) > 0:\n",
        "            message = self.data[self.topic].pop(0)\n",
        "            return message\n",
        "        return None\n",
        "\n",
        "\n",
        "class KafkaProducer:\n",
        "    def __init__(self, broker, topic, df):\n",
        "        self.broker = broker\n",
        "        self.topic = topic\n",
        "        self.df = df\n",
        "\n",
        "    def send(self):\n",
        "        for index, row in self.df.iterrows():\n",
        "            message = Message(row['user_id'], row['product_id'], row['event_time'])\n",
        "            self.broker.produce_message(message)\n",
        "\n",
        "\n",
        "class KafkaConsumer:\n",
        "    def __init__(self, broker, topic, user_id, n_top):\n",
        "        self.broker = broker\n",
        "        self.topic = topic\n",
        "        self.queue = Queue()\n",
        "        self.thread = threading.Thread(target=self.run)\n",
        "        self.thread.start()\n",
        "        self.counter = 0\n",
        "        self.user_id = user_id\n",
        "        self.n_top = n_top\n",
        "        self.user_profiles = defaultdict(lambda: defaultdict(int))\n",
        "        self.events = defaultdict(list)\n",
        "\n",
        "    def run(self):\n",
        "        while True:\n",
        "            message = self.broker.consume_messages()\n",
        "            if message is not None:\n",
        "                self.queue.put(message)\n",
        "\n",
        "    def poll(self, timeout=1):\n",
        "        try:\n",
        "            return self.queue.get(timeout=timeout)\n",
        "        except:\n",
        "            return None\n",
        "\n",
        "    def calculate_and_output_recommendations(self, user_id):\n",
        "        for event in self.events[user_id]:\n",
        "            self.user_profiles[user_id][event.product_id] += 1 / (time.time() - event.event_time)\n",
        "\n",
        "        top_n = []\n",
        "        for product_id, score in self.user_profiles[user_id].items():\n",
        "            if len(top_n) < self.n_top:\n",
        "                heapq.heappush(top_n, (score, product_id))\n",
        "            elif score > top_n[0][0]:\n",
        "                heapq.heapreplace(top_n, (score, product_id))\n",
        "        top_n = [product_id for score, product_id in heapq.nlargest(self.n_top, top_n)]\n",
        "\n",
        "        print(f\"Top-{self.n_top} recommendations for user {user_id}: {top_n}\")\n"
      ],
      "metadata": {
        "id": "P-GvvH3bkCH8"
      },
      "execution_count": 22,
      "outputs": []
    },
    {
      "cell_type": "markdown",
      "source": [
        "\n",
        "Explanation of the Real-Time Analysis Code:\n",
        "\n",
        "The Message class is a class that represents a message with a user_id, product_id, and event_time.\n",
        "\n",
        "The KafkaBroker class represents the message broker. It keeps track of all messages that are produced to the broker. The produce_message() takes a Message object and adds it to the 'data' dictionary.\n",
        "\n",
        "The consume_messages() gets the first message in the dictionary for the current topic, removes it, and returns it. If there are no messages, it returns None.\n",
        "\n",
        "The KafkaProducer class is responsible for producing messages. It takes a KafkaBroker object, a topic string, and a pandas dataframe as input. The send()iterates through the rows of the dataframe and creates a Message object for each row. The produce_message() connects to the KafkaBroker object by producing the messages. \n",
        "\n",
        "The KafkaConsumer class consumes messages. It takes a KafkaBroker object, a topic string, a user_id string, and an integer n_top as input. When a KafkaConsumer object is created, it creates a queue and a thread. This continuously runs the run(). The run() calls the consume_messages() of the KafkaBroker to get messages from the broker and adds them to the queue.\n",
        "\n",
        "The poll() is used to retrieve messages from the queue. When there is no message in the queue, it returns None.\n",
        "\n",
        "The calculate_and_output_recommendations() is called to calculate and output the top-n recommendations for the user with the given user_id. It first updates the user's attributes with the latest events by going through the events list for the user and computing a score for each product. The top_n recommendations for the user are then computed using the heapq module. The top recommendations are printed based on the precision metrics. "
      ],
      "metadata": {
        "id": "P92ZzpKlY0_e"
      }
    }
  ]
}